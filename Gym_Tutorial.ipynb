{
 "cells": [
  {
   "cell_type": "markdown",
   "id": "b52c4566-4cdf-428b-8300-fcb9d340ddf8",
   "metadata": {},
   "source": [
    "# Library "
   ]
  },
  {
   "cell_type": "code",
   "execution_count": 132,
   "id": "d854d2e8-5779-462b-af64-c2a62bfd10df",
   "metadata": {},
   "outputs": [],
   "source": [
    "import gym"
   ]
  },
  {
   "cell_type": "markdown",
   "id": "0bc025e5-2778-4a99-9fab-1a436787d173",
   "metadata": {},
   "source": [
    "# Implementation"
   ]
  },
  {
   "cell_type": "code",
   "execution_count": 29,
   "id": "c0c225b5-5045-4358-b1d6-3eec2cd64738",
   "metadata": {},
   "outputs": [
    {
     "data": {
      "text/plain": [
       "(0, {'prob': 1})"
      ]
     },
     "execution_count": 29,
     "metadata": {},
     "output_type": "execute_result"
    }
   ],
   "source": [
    "env= gym.make('FrozenLake-v1',render_mode = 'human',is_slippery = False)\n",
    "cur_state = env.reset()\n",
    "cur_state"
   ]
  },
  {
   "cell_type": "markdown",
   "id": "6ba009ac-51ff-40dc-a649-d4bd1085eedc",
   "metadata": {},
   "source": [
    "## Number of States & Actions"
   ]
  },
  {
   "cell_type": "code",
   "execution_count": 32,
   "id": "59e1db7b-5819-47c3-b815-a0cc3a56ec40",
   "metadata": {},
   "outputs": [
    {
     "name": "stdout",
     "output_type": "stream",
     "text": [
      "num_states : Discrete(16)\n"
     ]
    }
   ],
   "source": [
    "print('num_states :' , env.observation_space)"
   ]
  },
  {
   "cell_type": "code",
   "execution_count": 34,
   "id": "78601d80-c256-4416-939d-f8b44eece899",
   "metadata": {},
   "outputs": [
    {
     "name": "stdout",
     "output_type": "stream",
     "text": [
      "num_states : 16\n"
     ]
    }
   ],
   "source": [
    "# To represent it as an Integer number\n",
    "print('num_states :' , env.observation_space.n)"
   ]
  },
  {
   "cell_type": "code",
   "execution_count": 38,
   "id": "5891c1a2-3343-4121-8c0d-128ca86a4197",
   "metadata": {},
   "outputs": [
    {
     "name": "stdout",
     "output_type": "stream",
     "text": [
      "num_actions : Discrete(4)\n"
     ]
    }
   ],
   "source": [
    "print('num_actions :' , env.action_space)"
   ]
  },
  {
   "cell_type": "markdown",
   "id": "d35ae132-c71d-44ad-9ee4-1780651c0609",
   "metadata": {},
   "source": [
    "### Actions\n",
    "1. (0) Left \n",
    "2. (1) Down\n",
    "3. (2) Right\n",
    "4. (3) Up"
   ]
  },
  {
   "cell_type": "code",
   "execution_count": 40,
   "id": "15fbe20f-e912-4e3e-a47d-a880d603fe80",
   "metadata": {},
   "outputs": [
    {
     "name": "stdout",
     "output_type": "stream",
     "text": [
      "num_actions : 4\n"
     ]
    }
   ],
   "source": [
    "print('num_actions :' , env.action_space.n)"
   ]
  },
  {
   "cell_type": "markdown",
   "id": "17f46e5f-1adc-4ce9-ab1e-bbaf6cb110bc",
   "metadata": {},
   "source": [
    "## Actions probabilities"
   ]
  },
  {
   "cell_type": "markdown",
   "id": "759d4cb9-ac84-46ed-9fa2-8b77fdad0eac",
   "metadata": {},
   "source": [
    "### Deterministic Environment "
   ]
  },
  {
   "cell_type": "code",
   "execution_count": 42,
   "id": "11b50b3a-8fc5-4294-948b-2c5a787c3e8f",
   "metadata": {},
   "outputs": [
    {
     "name": "stdout",
     "output_type": "stream",
     "text": [
      "P :  [(1.0, 4, 0.0, False)]\n"
     ]
    }
   ],
   "source": [
    "print('P : ',env.P[0][1]) # env.P[state][action] -> returns the new state, it's probability and if the episode is terminated "
   ]
  },
  {
   "cell_type": "markdown",
   "id": "8a5671b6-97b8-4609-860e-25417ce6bc13",
   "metadata": {},
   "source": [
    "### Stochastic Environment "
   ]
  },
  {
   "cell_type": "code",
   "execution_count": 134,
   "id": "4498f163-2229-4cdf-a6e7-019540656e52",
   "metadata": {},
   "outputs": [],
   "source": [
    "env= gym.make('FrozenLake-v1',render_mode = 'human',is_slippery = True) # Added noise "
   ]
  },
  {
   "cell_type": "code",
   "execution_count": 90,
   "id": "13fe6455-813b-456e-9a13-8767e202d872",
   "metadata": {},
   "outputs": [
    {
     "name": "stdout",
     "output_type": "stream",
     "text": [
      "P :  [(0.3333333333333333, 0, 0.0, False), (0.3333333333333333, 4, 0.0, False), (0.3333333333333333, 1, 0.0, False)]\n"
     ]
    }
   ],
   "source": [
    "print('P : ',env.P[0][1]) # env.P[state][action] -> returns the new state and it's probability "
   ]
  },
  {
   "cell_type": "markdown",
   "id": "4de5a936-802d-474d-9400-5b5722c6d646",
   "metadata": {},
   "source": [
    "### State variable Content \n",
    "- (next_state , reward , terminated , truncated , transition_probability from old to new state)\n",
    "- done = terminated or truncated\n",
    "- terminated -> reaches the final stage\n",
    "- truncated -> the allowed time is up"
   ]
  },
  {
   "cell_type": "code",
   "execution_count": 88,
   "id": "d6e7b711-4081-428f-8c40-dce28c86b286",
   "metadata": {},
   "outputs": [
    {
     "name": "stdout",
     "output_type": "stream",
     "text": [
      "(0, 0.0, False, False, {'prob': 0.3333333333333333})\n"
     ]
    }
   ],
   "source": [
    "env.reset()\n",
    "state = env.step(1) # Down with probability of 1/3 \n",
    "env.render()\n",
    "print(state)"
   ]
  },
  {
   "cell_type": "markdown",
   "id": "0494d143-c61b-47a1-be77-3a1c13a4c276",
   "metadata": {},
   "source": [
    "## Random action space"
   ]
  },
  {
   "cell_type": "code",
   "execution_count": 104,
   "id": "1cbdaabc-4808-43f5-8ce8-bee80e045bb4",
   "metadata": {},
   "outputs": [
    {
     "name": "stdout",
     "output_type": "stream",
     "text": [
      "1\n"
     ]
    }
   ],
   "source": [
    "random_action = env.action_space.sample()\n",
    "print(random_action)"
   ]
  },
  {
   "cell_type": "markdown",
   "id": "e055f48d-fc4b-41c0-bcfe-db0103395b6c",
   "metadata": {},
   "source": [
    "## Random episode generation"
   ]
  },
  {
   "cell_type": "code",
   "execution_count": 140,
   "id": "570e50ac-276c-433f-af26-6acaddfbb87c",
   "metadata": {},
   "outputs": [
    {
     "name": "stdout",
     "output_type": "stream",
     "text": [
      "Time stamp 1 : Reward 0.0 : Episode 1\n",
      "Time stamp 2 : Reward 0.0 : Episode 1\n",
      "Time stamp 3 : Reward 0.0 : Episode 1\n",
      "Time stamp 1 : Reward 0.0 : Episode 2\n",
      "Time stamp 2 : Reward 0.0 : Episode 2\n",
      "Time stamp 1 : Reward 0.0 : Episode 3\n",
      "Time stamp 2 : Reward 0.0 : Episode 3\n",
      "Time stamp 3 : Reward 0.0 : Episode 3\n",
      "Time stamp 4 : Reward 0.0 : Episode 3\n",
      "Time stamp 5 : Reward 0.0 : Episode 3\n",
      "Time stamp 6 : Reward 0.0 : Episode 3\n",
      "Time stamp 7 : Reward 0.0 : Episode 3\n",
      "Time stamp 8 : Reward 0.0 : Episode 3\n",
      "Time stamp 9 : Reward 0.0 : Episode 3\n",
      "Time stamp 10 : Reward 0.0 : Episode 3\n",
      "Time stamp 1 : Reward 0.0 : Episode 4\n",
      "Time stamp 2 : Reward 0.0 : Episode 4\n",
      "Time stamp 3 : Reward 0.0 : Episode 4\n",
      "Time stamp 4 : Reward 0.0 : Episode 4\n",
      "Time stamp 5 : Reward 0.0 : Episode 4\n",
      "Time stamp 6 : Reward 0.0 : Episode 4\n",
      "Time stamp 7 : Reward 0.0 : Episode 4\n",
      "Time stamp 8 : Reward 0.0 : Episode 4\n",
      "Time stamp 9 : Reward 0.0 : Episode 4\n",
      "Time stamp 10 : Reward 0.0 : Episode 4\n",
      "Time stamp 11 : Reward 0.0 : Episode 4\n",
      "Time stamp 12 : Reward 0.0 : Episode 4\n",
      "Time stamp 1 : Reward 0.0 : Episode 5\n",
      "Time stamp 2 : Reward 0.0 : Episode 5\n",
      "Time stamp 3 : Reward 0.0 : Episode 5\n",
      "Time stamp 4 : Reward 0.0 : Episode 5\n",
      "Time stamp 5 : Reward 0.0 : Episode 5\n",
      "Time stamp 6 : Reward 0.0 : Episode 5\n",
      "Time stamp 1 : Reward 0.0 : Episode 6\n",
      "Time stamp 2 : Reward 0.0 : Episode 6\n",
      "Time stamp 3 : Reward 0.0 : Episode 6\n",
      "Time stamp 4 : Reward 0.0 : Episode 6\n",
      "Time stamp 5 : Reward 0.0 : Episode 6\n",
      "Time stamp 6 : Reward 0.0 : Episode 6\n",
      "Time stamp 7 : Reward 0.0 : Episode 6\n",
      "Time stamp 8 : Reward 0.0 : Episode 6\n",
      "Time stamp 9 : Reward 0.0 : Episode 6\n",
      "Time stamp 10 : Reward 0.0 : Episode 6\n",
      "Time stamp 11 : Reward 0.0 : Episode 6\n",
      "Time stamp 12 : Reward 0.0 : Episode 6\n",
      "Time stamp 13 : Reward 0.0 : Episode 6\n",
      "Time stamp 14 : Reward 0.0 : Episode 6\n",
      "Time stamp 15 : Reward 0.0 : Episode 6\n",
      "Time stamp 16 : Reward 0.0 : Episode 6\n",
      "Time stamp 17 : Reward 0.0 : Episode 6\n",
      "Time stamp 18 : Reward 0.0 : Episode 6\n",
      "Time stamp 1 : Reward 0.0 : Episode 7\n",
      "Time stamp 2 : Reward 0.0 : Episode 7\n",
      "Time stamp 3 : Reward 0.0 : Episode 7\n",
      "Time stamp 4 : Reward 0.0 : Episode 7\n",
      "Time stamp 5 : Reward 0.0 : Episode 7\n",
      "Time stamp 1 : Reward 0.0 : Episode 8\n",
      "Time stamp 2 : Reward 0.0 : Episode 8\n",
      "Time stamp 3 : Reward 0.0 : Episode 8\n",
      "Time stamp 4 : Reward 0.0 : Episode 8\n",
      "Time stamp 5 : Reward 0.0 : Episode 8\n",
      "Time stamp 6 : Reward 0.0 : Episode 8\n",
      "Time stamp 7 : Reward 0.0 : Episode 8\n",
      "Time stamp 8 : Reward 0.0 : Episode 8\n",
      "Time stamp 9 : Reward 0.0 : Episode 8\n",
      "Time stamp 10 : Reward 0.0 : Episode 8\n",
      "Time stamp 11 : Reward 0.0 : Episode 8\n",
      "Time stamp 12 : Reward 0.0 : Episode 8\n",
      "Time stamp 13 : Reward 0.0 : Episode 8\n",
      "Time stamp 1 : Reward 0.0 : Episode 9\n",
      "Time stamp 2 : Reward 0.0 : Episode 9\n",
      "Time stamp 3 : Reward 0.0 : Episode 9\n",
      "Time stamp 4 : Reward 0.0 : Episode 9\n",
      "Time stamp 5 : Reward 0.0 : Episode 9\n",
      "Time stamp 6 : Reward 0.0 : Episode 9\n",
      "Time stamp 1 : Reward 0.0 : Episode 10\n",
      "Time stamp 2 : Reward 0.0 : Episode 10\n",
      "Time stamp 3 : Reward 0.0 : Episode 10\n",
      "Time stamp 4 : Reward 0.0 : Episode 10\n",
      "Time stamp 5 : Reward 0.0 : Episode 10\n",
      "Time stamp 6 : Reward 0.0 : Episode 10\n",
      "Time stamp 7 : Reward 0.0 : Episode 10\n",
      "Time stamp 8 : Reward 0.0 : Episode 10\n",
      "Time stamp 9 : Reward 0.0 : Episode 10\n",
      "Time stamp 10 : Reward 0.0 : Episode 10\n",
      "Time stamp 11 : Reward 0.0 : Episode 10\n",
      "Time stamp 12 : Reward 0.0 : Episode 10\n",
      "Time stamp 13 : Reward 1.0 : Episode 10\n"
     ]
    }
   ],
   "source": [
    "num_episodes = 10\n",
    "num_timesteps = 20 # maximum allowed steps per episode\n",
    "for e in range(num_episodes):\n",
    "    state = env.reset()\n",
    "    env.render()\n",
    "    for t in range(num_timesteps):\n",
    "        random_action = env.action_space.sample()\n",
    "        new_state , reward , terminated , truncated , info = env.step(random_action)\n",
    "        print('Time stamp {} :'.format(t+1) , 'Reward {} :'.format(reward),  'Episode {}'.format(e+1))\n",
    "        env.render()\n",
    "        done = terminated or truncated\n",
    "        if done:\n",
    "            break  "
   ]
  },
  {
   "cell_type": "code",
   "execution_count": 142,
   "id": "02fc32f9-c9bb-466a-9578-4d682a340023",
   "metadata": {},
   "outputs": [],
   "source": [
    "env.close()"
   ]
  },
  {
   "cell_type": "code",
   "execution_count": null,
   "id": "384a05b9-7e29-456a-87a9-9f5cb335a5e6",
   "metadata": {},
   "outputs": [],
   "source": []
  }
 ],
 "metadata": {
  "kernelspec": {
   "display_name": "Python 3 (ipykernel)",
   "language": "python",
   "name": "python3"
  },
  "language_info": {
   "codemirror_mode": {
    "name": "ipython",
    "version": 3
   },
   "file_extension": ".py",
   "mimetype": "text/x-python",
   "name": "python",
   "nbconvert_exporter": "python",
   "pygments_lexer": "ipython3",
   "version": "3.12.4"
  }
 },
 "nbformat": 4,
 "nbformat_minor": 5
}
